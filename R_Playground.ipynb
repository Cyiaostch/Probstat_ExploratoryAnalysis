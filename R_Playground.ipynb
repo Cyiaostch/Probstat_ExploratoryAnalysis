{
 "cells": [
  {
   "cell_type": "markdown",
   "metadata": {},
   "source": [
    "# Import Modules"
   ]
  },
  {
   "cell_type": "code",
   "execution_count": 2,
   "metadata": {},
   "outputs": [],
   "source": [
    "library(mosaic)"
   ]
  },
  {
   "cell_type": "markdown",
   "metadata": {},
   "source": [
    "# Create Dictionary"
   ]
  },
  {
   "cell_type": "code",
   "execution_count": 3,
   "metadata": {},
   "outputs": [],
   "source": [
    "Gender<-list(\"0\"=\"Missing Data\",\"1\"=\"Laki-Laki\",\"2\"=\"Perempuan\")\n",
    "Umur<-list(\"0\"=\"Missing Data\",\"1\"=\"<15 Tahun\",\"2\"=\"16-20 Tahun\",\"3\"=\"21-30 Tahun\",\"4\"=\"31-40 Tahun\",\"5\"=\"41-50 Tahun\",\"6\"=\">50 Tahun\")\n",
    "Profesi<-list(\"0\"=\"Missing Data\",\"1\"=\"Pelajar\",\"2\"=\"Ibu Rumah Tangga\",\"3\"=\"Bekerja\")\n",
    "Penghasilan<-list(\"0\"=\"Missing Data\",\"1\"=\"<Rp 2 Jt\",\"2\"=\"Rp 2-5 Jt\",\"3\"=\"Rp 5 - 10 Jt\",\"4\"=\">Rp 10 Jt\")"
   ]
  },
  {
   "cell_type": "code",
   "execution_count": 107,
   "metadata": {},
   "outputs": [],
   "source": [
    "Frekuensi_Belanja_Online<-list(\"0\"=\"Missing Data\",\"1\"=\"Menurun\",\"2\"=\"Tetap\",\"3\"=\"Meningkat\")\n",
    "Preferensi_Belanja_Online<-list(\"0\"=\"Missing Data\",\"1\"=\"Online\",\"2\"=\"Offline\")\n",
    "Preferensi_Toko_Online<-list(\"0\"=\"Missing\",\"1\"=\"Tokopedia\",\"2\"=\"Bukalapak\",\"3\"=\"Shopee\",\"4\"=\"Blibli\",\"5\"=\"Lazada\",\"6\"=\"Elevenia\",\"7\"=\"Matahari\",\"8\"=\"OLX\",\"9\"=\"Zalora\",\"10\"=\"Blanja\",\"11\"=\"Gojek\")\n",
    "Preferensi_Booking_Online<-list(\"0\"=\"Missing\",\"1\"=\"Agoda\",\"2\"=\"Traveloka\",\"3\"=\"Tiket\",\"4\"=\"Booking\",\"5\"=\"Rajakamar\",\"6\"=\"Gojek\",\"7\"=\"uTicket\",\"8\"=\"Tokopedia\",\"9\"=\"Bukalapak\",\"10\"=\"Blibli\",\"11\"=\"Pegi-pegi\",\"12\"=\"Hotels\",\"13\"=\"Airbnb\",\"14\"=\"Airyrooms\",\"15\"=\"Zenrooms\",\"16\"=\"Reddoorz\")\n",
    "Kendaraan_Online<-list(\"0\"=\"Missing Data\",\"1\"=\"Pernah\",\"2\"=\"Tidak Pernah\")"
   ]
  },
  {
   "cell_type": "code",
   "execution_count": 5,
   "metadata": {},
   "outputs": [],
   "source": [
    "Dictionary_Mapping<-list(\n",
    "    'Gender' = \"Gender\",\n",
    "    'Umur' = \"Umur\",\n",
    "    'Profesi' =  \"Profesi\",\n",
    "    'Penghasilan' = \"Penghasilan\",\n",
    "    'Frekuensi.Belanja.Online' =  \"Frekuensi_Belanja_Online\",\n",
    "    'Fashion' = \"Preferensi_Belanja_Online\",\n",
    "    'Groceries' = \"Preferensi_Belanja_Online\",\n",
    "    'HP' = \"Preferensi_Belanja_Online\",\n",
    "    'PC' = \"Preferensi_Belanja_Online\",\n",
    "    'Elektronik' = \"Preferensi_Belanja_Online\",\n",
    "    'Kosmetik' =\"Preferensi_Belanja_Online\",\n",
    "    'Makanan' =\"Preferensi_Belanja_Online\",\n",
    "    'Pulsa' =\"Preferensi_Belanja_Online\",\n",
    "    'Pesawat'= \"Preferensi_Belanja_Online\",\n",
    "    'Kereta' =\"Preferensi_Belanja_Online\",\n",
    "    'Hobi' =\"Preferensi_Belanja_Online\",\n",
    "    'Hotel' =\"Preferensi_Belanja_Online\",\n",
    "    'Konser' =\"Preferensi_Belanja_Online\",\n",
    "    'Wisata' =\"Preferensi_Belanja_Online\",\n",
    "    'Bioskop' =\"Preferensi_Belanja_Online\",\n",
    "    'Kendaraan.Umum' =\"Preferensi_Belanja_Online\",\n",
    "    'Preferensi.Toko.Online.1' =\"Preferensi_Toko_Online\",\n",
    "    'Preferensi.Toko.Online.2' =\"Preferensi_Toko_Online\",\n",
    "    'Preferensi.Toko.Online.3' =\"Preferensi_Toko_Online\",\n",
    "    'Preferensi.Booking.Online.1' =\"Preferensi_Booking_Online\",\n",
    "    'Preferensi.Booking.Online.2' =\"Preferensi_Booking_Online\",\n",
    "    'Preferensi.Booking.Online.3'= \"Preferensi_Booking_Online\",\n",
    "    'Gojek.Motor'=\"Kendaraan_Online\" ,\n",
    "    'Grab.Motor' =\"Kendaraan_Online\",\n",
    "    'Uber.Motor' =\"Kendaraan_Online\",\n",
    "    'Gojek.Car' =\"Kendaraan_Online\",\n",
    "    'Uber.Car' =\"Kendaraan_Online\",\n",
    "    'Grab.Car' =\"Kendaraan_Online\",\n",
    "    'Grab.Taxi'=\"Kendaraan_Online\"\n",
    ")"
   ]
  },
  {
   "cell_type": "markdown",
   "metadata": {},
   "source": [
    "# Read Data"
   ]
  },
  {
   "cell_type": "code",
   "execution_count": 6,
   "metadata": {},
   "outputs": [],
   "source": [
    "data <- read.csv(file=\"data_cleaned.csv\", header=TRUE)\n",
    "rownames(data) <- data$X\n",
    "data<-data[-1]"
   ]
  },
  {
   "cell_type": "markdown",
   "metadata": {},
   "source": [
    "# Show Data Head & Columns Name"
   ]
  },
  {
   "cell_type": "code",
   "execution_count": 7,
   "metadata": {},
   "outputs": [
    {
     "data": {
      "text/html": [
       "<table>\n",
       "<thead><tr><th scope=col>Gender</th><th scope=col>Umur</th><th scope=col>Profesi</th><th scope=col>Penghasilan</th><th scope=col>Frekuensi.Belanja.Online</th><th scope=col>Fashion</th><th scope=col>Groceries</th><th scope=col>HP</th><th scope=col>PC</th><th scope=col>Elektronik</th><th scope=col>...</th><th scope=col>Preferensi.Booking.Online.1</th><th scope=col>Preferensi.Booking.Online.2</th><th scope=col>Preferensi.Booking.Online.3</th><th scope=col>Gojek.Motor</th><th scope=col>Grab.Motor</th><th scope=col>Uber.Motor</th><th scope=col>Gojek.Car</th><th scope=col>Uber.Car</th><th scope=col>Grab.Car</th><th scope=col>Grab.Taxi</th></tr></thead>\n",
       "<tbody>\n",
       "\t<tr><td>2  </td><td>6  </td><td>2  </td><td>4  </td><td>2  </td><td>2  </td><td>2  </td><td>2  </td><td>2  </td><td>2  </td><td>...</td><td>4  </td><td>12 </td><td>13 </td><td>2  </td><td>2  </td><td>2  </td><td>2  </td><td>2  </td><td>2  </td><td>2  </td></tr>\n",
       "\t<tr><td>2  </td><td>4  </td><td>3  </td><td>2  </td><td>3  </td><td>1  </td><td>2  </td><td>2  </td><td>2  </td><td>2  </td><td>...</td><td>6  </td><td> 8 </td><td> 9 </td><td>1  </td><td>1  </td><td>1  </td><td>1  </td><td>1  </td><td>1  </td><td>1  </td></tr>\n",
       "\t<tr><td>1  </td><td>5  </td><td>3  </td><td>4  </td><td>3  </td><td>2  </td><td>2  </td><td>1  </td><td>2  </td><td>1  </td><td>...</td><td>1  </td><td> 4 </td><td>12 </td><td>2  </td><td>2  </td><td>2  </td><td>2  </td><td>2  </td><td>1  </td><td>2  </td></tr>\n",
       "\t<tr><td>1  </td><td>2  </td><td>1  </td><td>1  </td><td>3  </td><td>2  </td><td>2  </td><td>2  </td><td>2  </td><td>2  </td><td>...</td><td>2  </td><td> 8 </td><td> 9 </td><td>1  </td><td>1  </td><td>2  </td><td>1  </td><td>2  </td><td>1  </td><td>2  </td></tr>\n",
       "\t<tr><td>2  </td><td>5  </td><td>2  </td><td>1  </td><td>2  </td><td>2  </td><td>2  </td><td>2  </td><td>2  </td><td>2  </td><td>...</td><td>2  </td><td> 8 </td><td> 9 </td><td>2  </td><td>1  </td><td>2  </td><td>2  </td><td>2  </td><td>1  </td><td>2  </td></tr>\n",
       "</tbody>\n",
       "</table>\n"
      ],
      "text/latex": [
       "\\begin{tabular}{r|llllllllllllllllllllllllllllllllll}\n",
       " Gender & Umur & Profesi & Penghasilan & Frekuensi.Belanja.Online & Fashion & Groceries & HP & PC & Elektronik & ... & Preferensi.Booking.Online.1 & Preferensi.Booking.Online.2 & Preferensi.Booking.Online.3 & Gojek.Motor & Grab.Motor & Uber.Motor & Gojek.Car & Uber.Car & Grab.Car & Grab.Taxi\\\\\n",
       "\\hline\n",
       "\t 2   & 6   & 2   & 4   & 2   & 2   & 2   & 2   & 2   & 2   & ... & 4   & 12  & 13  & 2   & 2   & 2   & 2   & 2   & 2   & 2  \\\\\n",
       "\t 2   & 4   & 3   & 2   & 3   & 1   & 2   & 2   & 2   & 2   & ... & 6   &  8  &  9  & 1   & 1   & 1   & 1   & 1   & 1   & 1  \\\\\n",
       "\t 1   & 5   & 3   & 4   & 3   & 2   & 2   & 1   & 2   & 1   & ... & 1   &  4  & 12  & 2   & 2   & 2   & 2   & 2   & 1   & 2  \\\\\n",
       "\t 1   & 2   & 1   & 1   & 3   & 2   & 2   & 2   & 2   & 2   & ... & 2   &  8  &  9  & 1   & 1   & 2   & 1   & 2   & 1   & 2  \\\\\n",
       "\t 2   & 5   & 2   & 1   & 2   & 2   & 2   & 2   & 2   & 2   & ... & 2   &  8  &  9  & 2   & 1   & 2   & 2   & 2   & 1   & 2  \\\\\n",
       "\\end{tabular}\n"
      ],
      "text/markdown": [
       "\n",
       "Gender | Umur | Profesi | Penghasilan | Frekuensi.Belanja.Online | Fashion | Groceries | HP | PC | Elektronik | ... | Preferensi.Booking.Online.1 | Preferensi.Booking.Online.2 | Preferensi.Booking.Online.3 | Gojek.Motor | Grab.Motor | Uber.Motor | Gojek.Car | Uber.Car | Grab.Car | Grab.Taxi | \n",
       "|---|---|---|---|---|\n",
       "| 2   | 6   | 2   | 4   | 2   | 2   | 2   | 2   | 2   | 2   | ... | 4   | 12  | 13  | 2   | 2   | 2   | 2   | 2   | 2   | 2   | \n",
       "| 2   | 4   | 3   | 2   | 3   | 1   | 2   | 2   | 2   | 2   | ... | 6   |  8  |  9  | 1   | 1   | 1   | 1   | 1   | 1   | 1   | \n",
       "| 1   | 5   | 3   | 4   | 3   | 2   | 2   | 1   | 2   | 1   | ... | 1   |  4  | 12  | 2   | 2   | 2   | 2   | 2   | 1   | 2   | \n",
       "| 1   | 2   | 1   | 1   | 3   | 2   | 2   | 2   | 2   | 2   | ... | 2   |  8  |  9  | 1   | 1   | 2   | 1   | 2   | 1   | 2   | \n",
       "| 2   | 5   | 2   | 1   | 2   | 2   | 2   | 2   | 2   | 2   | ... | 2   |  8  |  9  | 2   | 1   | 2   | 2   | 2   | 1   | 2   | \n",
       "\n",
       "\n"
      ],
      "text/plain": [
       "  Gender Umur Profesi Penghasilan Frekuensi.Belanja.Online Fashion Groceries HP\n",
       "1 2      6    2       4           2                        2       2         2 \n",
       "2 2      4    3       2           3                        1       2         2 \n",
       "3 1      5    3       4           3                        2       2         1 \n",
       "4 1      2    1       1           3                        2       2         2 \n",
       "5 2      5    2       1           2                        2       2         2 \n",
       "  PC Elektronik ... Preferensi.Booking.Online.1 Preferensi.Booking.Online.2\n",
       "1 2  2          ... 4                           12                         \n",
       "2 2  2          ... 6                            8                         \n",
       "3 2  1          ... 1                            4                         \n",
       "4 2  2          ... 2                            8                         \n",
       "5 2  2          ... 2                            8                         \n",
       "  Preferensi.Booking.Online.3 Gojek.Motor Grab.Motor Uber.Motor Gojek.Car\n",
       "1 13                          2           2          2          2        \n",
       "2  9                          1           1          1          1        \n",
       "3 12                          2           2          2          2        \n",
       "4  9                          1           1          2          1        \n",
       "5  9                          2           1          2          2        \n",
       "  Uber.Car Grab.Car Grab.Taxi\n",
       "1 2        2        2        \n",
       "2 1        1        1        \n",
       "3 2        1        2        \n",
       "4 2        1        2        \n",
       "5 2        1        2        "
      ]
     },
     "metadata": {},
     "output_type": "display_data"
    }
   ],
   "source": [
    "head(data,5)"
   ]
  },
  {
   "cell_type": "code",
   "execution_count": 8,
   "metadata": {},
   "outputs": [
    {
     "name": "stdout",
     "output_type": "stream",
     "text": [
      "[1] \"Gender\"\n",
      "[1] \"Fashion\"\n",
      "[1] \"Groceries\"\n",
      "[1] \"HP\"\n",
      "[1] \"PC\"\n",
      "[1] \"Elektronik\"\n",
      "[1] \"Kosmetik\"\n",
      "[1] \"Makanan\"\n",
      "[1] \"Pulsa\"\n",
      "[1] \"Pesawat\"\n",
      "[1] \"Kereta\"\n",
      "[1] \"Hobi\"\n",
      "[1] \"Hotel\"\n",
      "[1] \"Konser\"\n",
      "[1] \"Wisata\"\n",
      "[1] \"Bioskop\"\n",
      "[1] \"Kendaraan.Umum\"\n",
      "[1] \"Gojek.Motor\"\n",
      "[1] \"Grab.Motor\"\n",
      "[1] \"Uber.Motor\"\n",
      "[1] \"Gojek.Car\"\n",
      "[1] \"Uber.Car\"\n",
      "[1] \"Grab.Car\"\n",
      "[1] \"Grab.Taxi\"\n"
     ]
    }
   ],
   "source": [
    "for(i in colnames(data))\n",
    "{\n",
    "    if(length(unique(data[[i]]))==3)\n",
    "    {\n",
    "            print(i)\n",
    "    }\n",
    "}"
   ]
  },
  {
   "cell_type": "markdown",
   "metadata": {},
   "source": [
    "# Slicing Template"
   ]
  },
  {
   "cell_type": "code",
   "execution_count": 9,
   "metadata": {},
   "outputs": [
    {
     "data": {
      "text/html": [
       "<ol class=list-inline>\n",
       "\t<li>'Gender'</li>\n",
       "\t<li>'Umur'</li>\n",
       "\t<li>'Profesi'</li>\n",
       "\t<li>'Penghasilan'</li>\n",
       "\t<li>'Frekuensi.Belanja.Online'</li>\n",
       "\t<li>'Fashion'</li>\n",
       "\t<li>'Groceries'</li>\n",
       "\t<li>'HP'</li>\n",
       "\t<li>'PC'</li>\n",
       "\t<li>'Elektronik'</li>\n",
       "\t<li>'Kosmetik'</li>\n",
       "\t<li>'Makanan'</li>\n",
       "\t<li>'Pulsa'</li>\n",
       "\t<li>'Pesawat'</li>\n",
       "\t<li>'Kereta'</li>\n",
       "\t<li>'Hobi'</li>\n",
       "\t<li>'Hotel'</li>\n",
       "\t<li>'Konser'</li>\n",
       "\t<li>'Wisata'</li>\n",
       "\t<li>'Bioskop'</li>\n",
       "\t<li>'Kendaraan.Umum'</li>\n",
       "</ol>\n"
      ],
      "text/latex": [
       "\\begin{enumerate*}\n",
       "\\item 'Gender'\n",
       "\\item 'Umur'\n",
       "\\item 'Profesi'\n",
       "\\item 'Penghasilan'\n",
       "\\item 'Frekuensi.Belanja.Online'\n",
       "\\item 'Fashion'\n",
       "\\item 'Groceries'\n",
       "\\item 'HP'\n",
       "\\item 'PC'\n",
       "\\item 'Elektronik'\n",
       "\\item 'Kosmetik'\n",
       "\\item 'Makanan'\n",
       "\\item 'Pulsa'\n",
       "\\item 'Pesawat'\n",
       "\\item 'Kereta'\n",
       "\\item 'Hobi'\n",
       "\\item 'Hotel'\n",
       "\\item 'Konser'\n",
       "\\item 'Wisata'\n",
       "\\item 'Bioskop'\n",
       "\\item 'Kendaraan.Umum'\n",
       "\\end{enumerate*}\n"
      ],
      "text/markdown": [
       "1. 'Gender'\n",
       "2. 'Umur'\n",
       "3. 'Profesi'\n",
       "4. 'Penghasilan'\n",
       "5. 'Frekuensi.Belanja.Online'\n",
       "6. 'Fashion'\n",
       "7. 'Groceries'\n",
       "8. 'HP'\n",
       "9. 'PC'\n",
       "10. 'Elektronik'\n",
       "11. 'Kosmetik'\n",
       "12. 'Makanan'\n",
       "13. 'Pulsa'\n",
       "14. 'Pesawat'\n",
       "15. 'Kereta'\n",
       "16. 'Hobi'\n",
       "17. 'Hotel'\n",
       "18. 'Konser'\n",
       "19. 'Wisata'\n",
       "20. 'Bioskop'\n",
       "21. 'Kendaraan.Umum'\n",
       "\n",
       "\n"
      ],
      "text/plain": [
       " [1] \"Gender\"                   \"Umur\"                    \n",
       " [3] \"Profesi\"                  \"Penghasilan\"             \n",
       " [5] \"Frekuensi.Belanja.Online\" \"Fashion\"                 \n",
       " [7] \"Groceries\"                \"HP\"                      \n",
       " [9] \"PC\"                       \"Elektronik\"              \n",
       "[11] \"Kosmetik\"                 \"Makanan\"                 \n",
       "[13] \"Pulsa\"                    \"Pesawat\"                 \n",
       "[15] \"Kereta\"                   \"Hobi\"                    \n",
       "[17] \"Hotel\"                    \"Konser\"                  \n",
       "[19] \"Wisata\"                   \"Bioskop\"                 \n",
       "[21] \"Kendaraan.Umum\"          "
      ]
     },
     "metadata": {},
     "output_type": "display_data"
    }
   ],
   "source": [
    "colnames(data)[1+0:(length(colnames(data))-14)]"
   ]
  },
  {
   "cell_type": "markdown",
   "metadata": {},
   "source": [
    "# Create Numeric Data & String Data"
   ]
  },
  {
   "cell_type": "code",
   "execution_count": 10,
   "metadata": {},
   "outputs": [],
   "source": [
    "data_numeric=data"
   ]
  },
  {
   "cell_type": "code",
   "execution_count": 11,
   "metadata": {},
   "outputs": [],
   "source": [
    "options(warn=-1)\n",
    "for(element in 0:2)\n",
    "{\n",
    "    data$Gender[data$Gender==element]<-Gender[toString(element)]\n",
    "    data$Fashion[data$Fashion==element]<-Preferensi_Belanja_Online[toString(element)]\n",
    "    data$Groceries[data$Groceries==element]<-Preferensi_Belanja_Online[toString(element)]\n",
    "    data$HP[data$HP==element]<-Preferensi_Belanja_Online[toString(element)]\n",
    "    data$PC[data$PC==element]<-Preferensi_Belanja_Online[toString(element)]\n",
    "    data$Elektronik[data$Elektronik==element]<-Preferensi_Belanja_Online[toString(element)]\n",
    "    data$Kosmetik[data$Kosmetik==element]<-Preferensi_Belanja_Online[toString(element)]\n",
    "    data$Makanan[data$Makanan==element]<-Preferensi_Belanja_Online[toString(element)]\n",
    "    data$Pulsa[data$Pulsa==element]<-Preferensi_Belanja_Online[toString(element)]\n",
    "    data$Pesawat[data$Pesawat==element]<-Preferensi_Belanja_Online[toString(element)]\n",
    "    data$Kereta[data$Kereta==element]<-Preferensi_Belanja_Online[toString(element)]\n",
    "    data$Hobi[data$Hobi==element]<-Preferensi_Belanja_Online[toString(element)]\n",
    "    data$Hotel[data$Hotel==element]<-Preferensi_Belanja_Online[toString(element)]\n",
    "    data$Konser[data$Konser==element]<-Preferensi_Belanja_Online[toString(element)]\n",
    "    data$Wisata[data$Wisata==element]<-Preferensi_Belanja_Online[toString(element)]\n",
    "    data$Bioskop[data$Bioskop==element]<-Preferensi_Belanja_Online[toString(element)]\n",
    "    data$Kendaraan.Umum[data$Kendaraan.Umum==element]<-Preferensi_Belanja_Online[toString(element)]\n",
    "    data$Gojek.Motor[data$Gojek.Motor==element]<-Kendaraan_Online[toString(element)]\n",
    "    data$Gojek.Car[data$Gojek.Car==element]<-Kendaraan_Online[toString(element)]\n",
    "    data$Grab.Motor[data$Grab.Motor==element]<-Kendaraan_Online[toString(element)]\n",
    "    data$Grab.Car[data$Grab.Car==element]<-Kendaraan_Online[toString(element)]\n",
    "    data$Grab.Taxi[data$Grab.Taxi==element]<-Kendaraan_Online[toString(element)]\n",
    "    data$Uber.Motor[data$Uber.Motor==element]<-Kendaraan_Online[toString(element)]\n",
    "    data$Uber.Car[data$Uber.Car==element]<-Kendaraan_Online[toString(element)]\n",
    "}\n",
    "for(element in 0:3)\n",
    "{\n",
    "    data$Profesi[data$Profesi==element]<-Profesi[toString(element)]\n",
    "    data$Frekuensi.Belanja.Online[data$Frekuensi.Belanja.Online==element]<-Frekuensi_Belanja_Online[toString(element)]\n",
    "}\n",
    "for(element in 0:4)\n",
    "{\n",
    "    data$Penghasilan[data$Penghasilan==element]<-Penghasilan[toString(element)]\n",
    "}\n",
    "for(element in 0:6)\n",
    "{\n",
    "    data$Umur[data$Umur==element]<-Umur[toString(element)]\n",
    "}\n",
    "for(element in 0:11)\n",
    "{\n",
    "    data$Preferensi.Toko.Online.1[data$Preferensi.Toko.Online.1==element]<-Preferensi_Toko_Online[toString(element)]\n",
    "    data$Preferensi.Toko.Online.2[data$Preferensi.Toko.Online.2==element]<-Preferensi_Toko_Online[toString(element)]\n",
    "    data$Preferensi.Toko.Online.3[data$Preferensi.Toko.Online.3==element]<-Preferensi_Toko_Online[toString(element)]\n",
    "}\n",
    "for(element in 0:16)\n",
    "{\n",
    "    data$Preferensi.Booking.Online.1[data$Preferensi.Booking.Online.1==element]<-Preferensi_Booking_Online[toString(element)]\n",
    "    data$Preferensi.Booking.Online.2[data$Preferensi.Booking.Online.2==element]<-Preferensi_Booking_Online[toString(element)]\n",
    "    data$Preferensi.Booking.Online.3[data$Preferensi.Booking.Online.3==element]<-Preferensi_Booking_Online[toString(element)]\n",
    "}\n",
    "options(warn=0)"
   ]
  },
  {
   "cell_type": "code",
   "execution_count": 12,
   "metadata": {},
   "outputs": [],
   "source": [
    "data_string=data"
   ]
  },
  {
   "cell_type": "markdown",
   "metadata": {},
   "source": [
    "# Save Histogram"
   ]
  },
  {
   "cell_type": "code",
   "execution_count": 24,
   "metadata": {},
   "outputs": [],
   "source": [
    "color<-c('#794044','#0E2F44','#008080','#800080','#008000')\n",
    "targets<-colnames(data)[1+0:(length(colnames(data))-14)]\n",
    "for (target in colnames(data))\n",
    "{\n",
    "        if(length(unique(data[[target]]))<=9)\n",
    "        {\n",
    "        save_file=paste(\"histogram/\",target,\".png\",sep=\"\")\n",
    "        dev.copy(png,save_file,res=100,width=1280,height=720)\n",
    "        Data<-data_numeric[[target]]\n",
    "        if(length(unique(data[[target]]))==3)\n",
    "        {\n",
    "            cx=1\n",
    "            ls=1\n",
    "            hz=FALSE\n",
    "        }\n",
    "        if(length(unique(data[[target]]))==4)\n",
    "        {\n",
    "            cx=1\n",
    "            ls=1\n",
    "            hz=FALSE\n",
    "        }\n",
    "        if(length(unique(data[[target]]))==5)\n",
    "        {\n",
    "            cx=1\n",
    "            ls=1\n",
    "            hz=FALSE\n",
    "        }\n",
    "        if(length(unique(data[[target]]))==7)\n",
    "        {\n",
    "            cx=1\n",
    "            ls=1\n",
    "            hz=FALSE\n",
    "        }\n",
    "        if(length(unique(data[[target]]))==12)\n",
    "        {\n",
    "            cx=1\n",
    "            ls=1\n",
    "            hz=FALSE\n",
    "        }\n",
    "        if(length(unique(data[[target]]))==17)\n",
    "        {\n",
    "            cx=1\n",
    "            ls=1\n",
    "            hz=FALSE\n",
    "        }\n",
    "        exp<-paste('barplot(table(data_numeric[[target]]),col=\"#794044\",names.arg=',Dictionary_Mapping[target],',horiz=',hz,',space=0.05,las=',ls,',cex.names=',cx,')')\n",
    "        eval(parse(text=exp))\n",
    "        dev.off()\n",
    "        }\n",
    "}\n"
   ]
  },
  {
   "cell_type": "markdown",
   "metadata": {},
   "source": [
    "# Show Confidence Interval"
   ]
  },
  {
   "cell_type": "code",
   "execution_count": 13,
   "metadata": {},
   "outputs": [
    {
     "name": "stdout",
     "output_type": "stream",
     "text": [
      "[1] \"Gender\"\n",
      "[1] \"P (Sample): 0.47\"\n",
      "[1] \"95% Confidence Interval : 0.44 < P < 0.51\"\n",
      "[1] \"99% Confidence Interval : 0.43 < P < 0.52\"\n",
      "[1] \"\"\n",
      "[1] \"Fashion\"\n",
      "[1] \"P (Sample): 0.22\"\n",
      "[1] \"95% Confidence Interval : 0.19 < P < 0.25\"\n",
      "[1] \"99% Confidence Interval : 0.18 < P < 0.26\"\n",
      "[1] \"\"\n",
      "[1] \"Groceries\"\n",
      "[1] \"P (Sample): 0.03\"\n",
      "[1] \"95% Confidence Interval : 0.02 < P < 0.05\"\n",
      "[1] \"99% Confidence Interval : 0.02 < P < 0.05\"\n",
      "[1] \"\"\n",
      "[1] \"HP\"\n",
      "[1] \"P (Sample): 0.16\"\n",
      "[1] \"95% Confidence Interval : 0.13 < P < 0.18\"\n",
      "[1] \"99% Confidence Interval : 0.12 < P < 0.19\"\n",
      "[1] \"\"\n",
      "[1] \"PC\"\n",
      "[1] \"P (Sample): 0.12\"\n",
      "[1] \"95% Confidence Interval : 0.1 < P < 0.14\"\n",
      "[1] \"99% Confidence Interval : 0.09 < P < 0.15\"\n",
      "[1] \"\"\n",
      "[1] \"Elektronik\"\n",
      "[1] \"P (Sample): 0.06\"\n",
      "[1] \"95% Confidence Interval : 0.04 < P < 0.07\"\n",
      "[1] \"99% Confidence Interval : 0.03 < P < 0.08\"\n",
      "[1] \"\"\n",
      "[1] \"Kosmetik\"\n",
      "[1] \"P (Sample): 0.24\"\n",
      "[1] \"95% Confidence Interval : 0.21 < P < 0.27\"\n",
      "[1] \"99% Confidence Interval : 0.2 < P < 0.28\"\n",
      "[1] \"\"\n",
      "[1] \"Makanan\"\n",
      "[1] \"P (Sample): 0.32\"\n",
      "[1] \"95% Confidence Interval : 0.29 < P < 0.36\"\n",
      "[1] \"99% Confidence Interval : 0.28 < P < 0.37\"\n",
      "[1] \"\"\n",
      "[1] \"Pulsa\"\n",
      "[1] \"P (Sample): 0.61\"\n",
      "[1] \"95% Confidence Interval : 0.57 < P < 0.64\"\n",
      "[1] \"99% Confidence Interval : 0.56 < P < 0.65\"\n",
      "[1] \"\"\n",
      "[1] \"Pesawat\"\n",
      "[1] \"P (Sample): 0.89\"\n",
      "[1] \"95% Confidence Interval : 0.87 < P < 0.92\"\n",
      "[1] \"99% Confidence Interval : 0.87 < P < 0.92\"\n",
      "[1] \"\"\n",
      "[1] \"Kereta\"\n",
      "[1] \"P (Sample): 0.81\"\n",
      "[1] \"95% Confidence Interval : 0.78 < P < 0.83\"\n",
      "[1] \"99% Confidence Interval : 0.77 < P < 0.84\"\n",
      "[1] \"\"\n",
      "[1] \"Hobi\"\n",
      "[1] \"P (Sample): 0.32\"\n",
      "[1] \"95% Confidence Interval : 0.29 < P < 0.36\"\n",
      "[1] \"99% Confidence Interval : 0.28 < P < 0.37\"\n",
      "[1] \"\"\n",
      "[1] \"Hotel\"\n",
      "[1] \"P (Sample): 0.82\"\n",
      "[1] \"95% Confidence Interval : 0.79 < P < 0.85\"\n",
      "[1] \"99% Confidence Interval : 0.78 < P < 0.86\"\n",
      "[1] \"\"\n",
      "[1] \"Konser\"\n",
      "[1] \"P (Sample): 0.72\"\n",
      "[1] \"95% Confidence Interval : 0.69 < P < 0.75\"\n",
      "[1] \"99% Confidence Interval : 0.67 < P < 0.77\"\n",
      "[1] \"\"\n",
      "[1] \"Wisata\"\n",
      "[1] \"P (Sample): 0.46\"\n",
      "[1] \"95% Confidence Interval : 0.42 < P < 0.5\"\n",
      "[1] \"99% Confidence Interval : 0.41 < P < 0.51\"\n",
      "[1] \"\"\n",
      "[1] \"Bioskop\"\n",
      "[1] \"P (Sample): 0.28\"\n",
      "[1] \"95% Confidence Interval : 0.24 < P < 0.31\"\n",
      "[1] \"99% Confidence Interval : 0.23 < P < 0.32\"\n",
      "[1] \"\"\n",
      "[1] \"Kendaraan.Umum\"\n",
      "[1] \"P (Sample): 0.86\"\n",
      "[1] \"95% Confidence Interval : 0.84 < P < 0.89\"\n",
      "[1] \"99% Confidence Interval : 0.83 < P < 0.89\"\n",
      "[1] \"\"\n",
      "[1] \"Gojek.Motor\"\n",
      "[1] \"P (Sample): 0.85\"\n",
      "[1] \"95% Confidence Interval : 0.83 < P < 0.88\"\n",
      "[1] \"99% Confidence Interval : 0.82 < P < 0.89\"\n",
      "[1] \"\"\n",
      "[1] \"Grab.Motor\"\n",
      "[1] \"P (Sample): 0.58\"\n",
      "[1] \"95% Confidence Interval : 0.54 < P < 0.62\"\n",
      "[1] \"99% Confidence Interval : 0.53 < P < 0.63\"\n",
      "[1] \"\"\n",
      "[1] \"Uber.Motor\"\n",
      "[1] \"P (Sample): 0.34\"\n",
      "[1] \"95% Confidence Interval : 0.3 < P < 0.37\"\n",
      "[1] \"99% Confidence Interval : 0.29 < P < 0.38\"\n",
      "[1] \"\"\n",
      "[1] \"Gojek.Car\"\n",
      "[1] \"P (Sample): 0.68\"\n",
      "[1] \"95% Confidence Interval : 0.65 < P < 0.71\"\n",
      "[1] \"99% Confidence Interval : 0.63 < P < 0.72\"\n",
      "[1] \"\"\n",
      "[1] \"Uber.Car\"\n",
      "[1] \"P (Sample): 0.56\"\n",
      "[1] \"95% Confidence Interval : 0.52 < P < 0.6\"\n",
      "[1] \"99% Confidence Interval : 0.51 < P < 0.61\"\n",
      "[1] \"\"\n",
      "[1] \"Grab.Car\"\n",
      "[1] \"P (Sample): 0.72\"\n",
      "[1] \"95% Confidence Interval : 0.69 < P < 0.75\"\n",
      "[1] \"99% Confidence Interval : 0.68 < P < 0.76\"\n",
      "[1] \"\"\n",
      "[1] \"Grab.Taxi\"\n",
      "[1] \"P (Sample): 0.18\"\n",
      "[1] \"95% Confidence Interval : 0.16 < P < 0.21\"\n",
      "[1] \"99% Confidence Interval : 0.15 < P < 0.22\"\n",
      "[1] \"\"\n"
     ]
    }
   ],
   "source": [
    "for (element in colnames(data)) \n",
    "{\n",
    "    if(length(unique(data_numeric[[element]]))<=3)\n",
    "    {\n",
    "        temp<-data_numeric[[element]]\n",
    "        N=length(temp[temp==1])+length(temp[temp==2])\n",
    "        p=length(temp[temp==1])/N\n",
    "        standard_error=sqrt(p*(1-p)/N)\n",
    "        critical_value=1.96\n",
    "        margin_of_error=standard_error*critical_value\n",
    "        print(element)\n",
    "        text<-paste('P (Sample): ',round(p,2),sep='')\n",
    "        print(text)\n",
    "        text<-paste('95% Confidence Interval : ',round((p-margin_of_error),2),' < P < ',round((p+margin_of_error),2),sep='')\n",
    "        print(text)\n",
    "        critical_value=2.58\n",
    "        margin_of_error=standard_error*critical_value\n",
    "        text<-paste('99% Confidence Interval : ',round((p-margin_of_error),2),' < P < ',round((p+margin_of_error),2),sep='')\n",
    "        print(text)\n",
    "        print('')\n",
    "    }\n",
    "}"
   ]
  },
  {
   "cell_type": "markdown",
   "metadata": {},
   "source": [
    "# Testing Space"
   ]
  },
  {
   "cell_type": "code",
   "execution_count": 14,
   "metadata": {},
   "outputs": [
    {
     "name": "stdout",
     "output_type": "stream",
     "text": [
      "[1] \"Gender\"\n",
      "[1] \"Mean : 47.2775564409031\"\n",
      "[1] \"99% Confidence Interval : 43.7115357442806<x<50.8435771375255\"\n",
      "[1] \"\"\n",
      "[1] \"Fashion\"\n",
      "[1] \"Mean : 22.1494102228047\"\n",
      "[1] \"99% Confidence Interval : 19.2029143356713<x<25.0959061099381\"\n",
      "[1] \"\"\n",
      "[1] \"Groceries\"\n",
      "[1] \"Mean : 3.39425587467363\"\n",
      "[1] \"99% Confidence Interval : 2.11187967013343<x<4.67663207921383\"\n",
      "[1] \"\"\n",
      "[1] \"HP\"\n",
      "[1] \"Mean : 15.6862745098039\"\n",
      "[1] \"99% Confidence Interval : 13.1091559480442<x<18.2633930715636\"\n",
      "[1] \"\"\n",
      "[1] \"PC\"\n",
      "[1] \"Mean : 12.0893561103811\"\n",
      "[1] \"99% Confidence Interval : 9.77310276939838<x<14.4056094513638\"\n",
      "[1] \"\"\n",
      "[1] \"Elektronik\"\n",
      "[1] \"Mean : 5.54821664464993\"\n",
      "[1] \"99% Confidence Interval : 3.91745714082493<x<7.17897614847494\"\n",
      "[1] \"\"\n",
      "[1] \"Kosmetik\"\n",
      "[1] \"Mean : 24.0641711229947\"\n",
      "[1] \"99% Confidence Interval : 21.0006978553132<x<27.1276443906761\"\n",
      "[1] \"\"\n",
      "[1] \"Makanan\"\n",
      "[1] \"Mean : 32.4183006535948\"\n",
      "[1] \"99% Confidence Interval : 29.1013803970893<x<35.7352209101003\"\n",
      "[1] \"\"\n",
      "[1] \"Pulsa\"\n",
      "[1] \"Mean : 60.5781865965834\"\n",
      "[1] \"99% Confidence Interval : 57.1061029743094<x<64.0502702188575\"\n",
      "[1] \"\"\n",
      "[1] \"Pesawat\"\n",
      "[1] \"Mean : 89.4878706199461\"\n",
      "[1] \"99% Confidence Interval : 87.2809762106998<x<91.6947650291924\"\n",
      "[1] \"\"\n",
      "[1] \"Kereta\"\n",
      "[1] \"Mean : 80.5970149253731\"\n",
      "[1] \"99% Confidence Interval : 77.7419493948059<x<83.4520804559404\"\n",
      "[1] \"\"\n",
      "[1] \"Hobi\"\n",
      "[1] \"Mean : 32.2368421052632\"\n",
      "[1] \"99% Confidence Interval : 28.913903329174<x<35.5597808813523\"\n",
      "[1] \"\"\n",
      "[1] \"Hotel\"\n",
      "[1] \"Mean : 81.8306010928962\"\n",
      "[1] \"99% Confidence Interval : 79.0372296983735<x<84.6239724874188\"\n",
      "[1] \"\"\n",
      "[1] \"Konser\"\n",
      "[1] \"Mean : 71.9568567026194\"\n",
      "[1] \"99% Confidence Interval : 68.500781687233<x<75.4129317180059\"\n",
      "[1] \"\"\n",
      "[1] \"Wisata\"\n",
      "[1] \"Mean : 46.1322081575246\"\n",
      "[1] \"99% Confidence Interval : 42.467933836414<x<49.7964824786352\"\n",
      "[1] \"\"\n",
      "[1] \"Bioskop\"\n",
      "[1] \"Mean : 27.5579809004093\"\n",
      "[1] \"99% Confidence Interval : 24.323362485719<x<30.7925993150996\"\n",
      "[1] \"\"\n",
      "[1] \"Kendaraan.Umum\"\n",
      "[1] \"Mean : 86.1878453038674\"\n",
      "[1] \"99% Confidence Interval : 83.6745673776662<x<88.7011232300686\"\n",
      "[1] \"\"\n",
      "[1] \"Gojek.Motor\"\n",
      "[1] \"Mean : 85.1851851851852\"\n",
      "[1] \"99% Confidence Interval : 82.6528258957885<x<87.7175444745819\"\n",
      "[1] \"\"\n",
      "[1] \"Grab.Motor\"\n",
      "[1] \"Mean : 57.9387186629526\"\n",
      "[1] \"99% Confidence Interval : 54.3277847357728<x<61.5496525901325\"\n",
      "[1] \"\"\n",
      "[1] \"Uber.Motor\"\n",
      "[1] \"Mean : 33.5251798561151\"\n",
      "[1] \"99% Confidence Interval : 30.0154166828154<x<37.0349430294148\"\n",
      "[1] \"\"\n",
      "[1] \"Gojek.Car\"\n",
      "[1] \"Mean : 67.9063360881543\"\n",
      "[1] \"99% Confidence Interval : 64.5104543268406<x<71.3022178494679\"\n",
      "[1] \"\"\n",
      "[1] \"Uber.Car\"\n",
      "[1] \"Mean : 55.8739255014327\"\n",
      "[1] \"99% Confidence Interval : 52.1902565022784<x<59.557594500587\"\n",
      "[1] \"\"\n",
      "[1] \"Grab.Car\"\n",
      "[1] \"Mean : 72.0547945205479\"\n",
      "[1] \"99% Confidence Interval : 68.7995790791365<x<75.3100099619594\"\n",
      "[1] \"\"\n",
      "[1] \"Grab.Taxi\"\n",
      "[1] \"Mean : 18.4638109305761\"\n",
      "[1] \"99% Confidence Interval : 15.5410209244397<x<21.3866009367124\"\n",
      "[1] \"\"\n"
     ]
    }
   ],
   "source": [
    "for (element in colnames(data))\n",
    "{\n",
    "    if(length(unique(data_numeric[[element]]))<=3)\n",
    "    {\n",
    "        temp<-data_numeric[[element]]\n",
    "        N=length(temp[temp==1])+length(temp[temp==2])\n",
    "        p=length(temp[temp==1])/N\n",
    "        standard_error=sqrt(p*(1-p)/N)\n",
    "        critical_value=1.96\n",
    "        margin_of_error=standard_error*critical_value\n",
    "        print(element)\n",
    "        text<-paste('Mean : ',p*100,sep='')\n",
    "        print(text)\n",
    "        text<-paste('99% Confidence Interval : ',(p-margin_of_error)*100,'<x<',(p+margin_of_error)*100,sep='')\n",
    "        print(text)\n",
    "        print('')\n",
    "    }\n",
    "}"
   ]
  },
  {
   "cell_type": "code",
   "execution_count": 77,
   "metadata": {},
   "outputs": [
    {
     "data": {
      "text/plain": [
       "\n",
       "  0   1   2   3   4   5   6   7   8   9  11 \n",
       "  9 510  85  74   8  41   3   4   2   4  28 "
      ]
     },
     "metadata": {},
     "output_type": "display_data"
    },
    {
     "data": {
      "text/plain": [
       "\n",
       "  0   2   3   4   5   6   7   8   9  10  11 \n",
       " 61 242 100  29 153  16  15  48  42   1  61 "
      ]
     },
     "metadata": {},
     "output_type": "display_data"
    },
    {
     "data": {
      "text/plain": [
       "\n",
       "  0   3   4   5   6   7   8   9  10  11 \n",
       "161  24   9 114  13  13  56  21   1 356 "
      ]
     },
     "metadata": {},
     "output_type": "display_data"
    }
   ],
   "source": [
    "table(data_numeric[[\"Preferensi.Toko.Online.1\"]])\n",
    "table(data_numeric[[\"Preferensi.Toko.Online.2\"]])\n",
    "table(data_numeric[[\"Preferensi.Toko.Online.3\"]])"
   ]
  },
  {
   "cell_type": "code",
   "execution_count": 80,
   "metadata": {},
   "outputs": [
    {
     "data": {
      "text/plain": [
       "\n",
       "  0   1   2   3   4   5   6   7   8   9  10  11  13 \n",
       " 24 228 447  17   3   1  30   1  13   1   1   1   1 "
      ]
     },
     "metadata": {},
     "output_type": "display_data"
    },
    {
     "data": {
      "text/plain": [
       "\n",
       "  0   2   3   4   5   6   7   8   9  10  11  12  13  14 \n",
       " 89 194 188  30   6 117   8  65  18  13  12   4  20   4 "
      ]
     },
     "metadata": {},
     "output_type": "display_data"
    },
    {
     "data": {
      "text/plain": [
       "\n",
       "  0   3   4   5   6   7   8   9  10  11  12  13  14  15  16 \n",
       "180  58  43   7  93   9  97  62  28  69   9  53  52   3   5 "
      ]
     },
     "metadata": {},
     "output_type": "display_data"
    }
   ],
   "source": [
    "table(data_numeric[[\"Preferensi.Booking.Online.1\"]])\n",
    "table(data_numeric[[\"Preferensi.Booking.Online.2\"]])\n",
    "table(data_numeric[[\"Preferensi.Booking.Online.3\"]])"
   ]
  },
  {
   "cell_type": "code",
   "execution_count": 84,
   "metadata": {},
   "outputs": [],
   "source": [
    "toko<-c(0,510,327,198,46,308,32,32,106,67,2,445)\n",
    "booking<-c(0,228,641,263,76,14,240,18,175,81,42,82,14,73,56,3,5)"
   ]
  },
  {
   "cell_type": "code",
   "execution_count": 114,
   "metadata": {},
   "outputs": [
    {
     "data": {
      "text/html": [
       "<strong>png:</strong> 3"
      ],
      "text/latex": [
       "\\textbf{png:} 3"
      ],
      "text/markdown": [
       "**png:** 3"
      ],
      "text/plain": [
       "png \n",
       "  3 "
      ]
     },
     "metadata": {},
     "output_type": "display_data"
    },
    {
     "data": {
      "text/html": [
       "<strong>png:</strong> 2"
      ],
      "text/latex": [
       "\\textbf{png:} 2"
      ],
      "text/markdown": [
       "**png:** 2"
      ],
      "text/plain": [
       "png \n",
       "  2 "
      ]
     },
     "metadata": {},
     "output_type": "display_data"
    },
    {
     "data": {
      "text/html": [
       "<strong>png:</strong> 3"
      ],
      "text/latex": [
       "\\textbf{png:} 3"
      ],
      "text/markdown": [
       "**png:** 3"
      ],
      "text/plain": [
       "png \n",
       "  3 "
      ]
     },
     "metadata": {},
     "output_type": "display_data"
    },
    {
     "data": {
      "text/html": [
       "<strong>png:</strong> 2"
      ],
      "text/latex": [
       "\\textbf{png:} 2"
      ],
      "text/markdown": [
       "**png:** 2"
      ],
      "text/plain": [
       "png \n",
       "  2 "
      ]
     },
     "metadata": {},
     "output_type": "display_data"
    }
   ],
   "source": [
    "save_file=paste(\"histogram/toko.png\",sep=\"\")\n",
    "dev.copy(png,save_file,res=100,width=800,height=600)\n",
    "barplot(toko,names.arg=Preferensi_Toko_Online,space=0.05,col=\"#794044\",horiz=TRUE,las=1,cex.names=0.7)\n",
    "dev.off()\n",
    "\n",
    "save_file=paste(\"histogram/booking.png\",sep=\"\")\n",
    "dev.copy(png,save_file,res=100,width=800,height=600)\n",
    "barplot(booking,names.arg=Preferensi_Booking_Online,space=0.05,col=\"#794044\",horiz=TRUE,las=1,cex.names=0.675)\n",
    "dev.off()\n"
   ]
  },
  {
   "cell_type": "code",
   "execution_count": 120,
   "metadata": {},
   "outputs": [
    {
     "data": {
      "text/html": [
       "2073"
      ],
      "text/latex": [
       "2073"
      ],
      "text/markdown": [
       "2073"
      ],
      "text/plain": [
       "[1] 2073"
      ]
     },
     "metadata": {},
     "output_type": "display_data"
    },
    {
     "data": {
      "text/html": [
       "2011"
      ],
      "text/latex": [
       "2011"
      ],
      "text/markdown": [
       "2011"
      ],
      "text/plain": [
       "[1] 2011"
      ]
     },
     "metadata": {},
     "output_type": "display_data"
    },
    {
     "data": {
      "text/html": [
       "768"
      ],
      "text/latex": [
       "768"
      ],
      "text/markdown": [
       "768"
      ],
      "text/plain": [
       "[1] 768"
      ]
     },
     "metadata": {},
     "output_type": "display_data"
    }
   ],
   "source": [
    "sum(toko)\n",
    "sum(booking)"
   ]
  },
  {
   "cell_type": "code",
   "execution_count": 126,
   "metadata": {},
   "outputs": [
    {
     "name": "stdout",
     "output_type": "stream",
     "text": [
      "[1] \"Mean : 31.25\"\n",
      "[1] \"99% Confidence Interval : 26.9515302438582<x<35.5484697561418\"\n",
      "[1] \"\"\n"
     ]
    }
   ],
   "source": [
    "N=768\n",
    "p=240/N\n",
    "standard_error=sqrt(p*(1-p)/N)\n",
    "critical_value=2.57\n",
    "margin_of_error=standard_error*critical_value\n",
    "text<-paste('Mean : ',p*100,sep='')\n",
    "print(text)\n",
    "text<-paste('99% Confidence Interval : ',(p-margin_of_error)*100,'<x<',(p+margin_of_error)*100,sep='')\n",
    "print(text)\n",
    "print('')"
   ]
  }
 ],
 "metadata": {
  "kernelspec": {
   "display_name": "R",
   "language": "R",
   "name": "ir"
  },
  "language_info": {
   "codemirror_mode": "r",
   "file_extension": ".r",
   "mimetype": "text/x-r-source",
   "name": "R",
   "pygments_lexer": "r",
   "version": "3.4.1"
  }
 },
 "nbformat": 4,
 "nbformat_minor": 2
}
